{
 "cells": [
  {
   "cell_type": "code",
   "execution_count": 1,
   "id": "be5ae135",
   "metadata": {},
   "outputs": [],
   "source": [
    "#python==3.9.13\n",
    "#pandas==1.4.4\n",
    "#brightway2==2.4.3\n",
    "#ecoinvent version==ecoinvent 3.9_cutoff"
   ]
  },
  {
   "cell_type": "code",
   "execution_count": 2,
   "id": "3098850a",
   "metadata": {},
   "outputs": [],
   "source": [
    "import pandas as pd   #used for dealing with Excel files and creating data format\n",
    "import brightway2 as bw   #used for LCA calculation\n",
    "from brightway2 import *   \n",
    "import bw2analyzer as bwa   #used for the LCA contribution analysis\n",
    "from bw2data.parameters import ActivityParameter, DatabaseParameter, ProjectParameter, Group"
   ]
  },
  {
   "cell_type": "markdown",
   "id": "69fceb80",
   "metadata": {},
   "source": [
    "<span style=\"color:black;font-weight:600;font-size:20px\">\n",
    "    1. Create a project\n",
    "</span>"
   ]
  },
  {
   "cell_type": "code",
   "execution_count": 3,
   "id": "d182d4a6",
   "metadata": {},
   "outputs": [
    {
     "data": {
      "text/plain": [
       "[Project: default,\n",
       " Project: BW2 introduction,\n",
       " Project: B4B18,\n",
       " Project: 123,\n",
       " Project: NRC2,\n",
       " Project: NRC3,\n",
       " Project: NRC4]"
      ]
     },
     "execution_count": 3,
     "metadata": {},
     "output_type": "execute_result"
    }
   ],
   "source": [
    "#List the available projects\n",
    "list(bw.projects)"
   ]
  },
  {
   "cell_type": "code",
   "execution_count": 4,
   "id": "ff3bb2c9",
   "metadata": {},
   "outputs": [
    {
     "name": "stdout",
     "output_type": "stream",
     "text": [
      "Biosphere database already present!!! No setup is needed\n"
     ]
    }
   ],
   "source": [
    "#create or access a new project\n",
    "bw.projects.set_current(\"NRC4\")   #the project name need to be determined (e.g., NRC)\n",
    "bw.bw2setup()   #import the biosphere3 database, LCIA methods and some other data"
   ]
  },
  {
   "cell_type": "code",
   "execution_count": 5,
   "id": "c0f27c76",
   "metadata": {
    "scrolled": true
   },
   "outputs": [
    {
     "data": {
      "text/plain": [
       "[Project: default,\n",
       " Project: BW2 introduction,\n",
       " Project: B4B18,\n",
       " Project: 123,\n",
       " Project: NRC2,\n",
       " Project: NRC3,\n",
       " Project: NRC4]"
      ]
     },
     "execution_count": 5,
     "metadata": {},
     "output_type": "execute_result"
    }
   ],
   "source": [
    "#check our created project\n",
    "list(bw.projects)"
   ]
  },
  {
   "cell_type": "markdown",
   "id": "23e505c5",
   "metadata": {},
   "source": [
    "<span style=\"color:black;font-weight:600;font-size:20px\">\n",
    "    2. Database import\n",
    "</span>"
   ]
  },
  {
   "cell_type": "code",
   "execution_count": 6,
   "id": "a31c1b4a",
   "metadata": {},
   "outputs": [
    {
     "data": {
      "text/plain": [
       "Databases dictionary with 3 object(s):\n",
       "\tbiosphere3\n",
       "\tecoinvent 3.9_cutoff\n",
       "\telegancy"
      ]
     },
     "execution_count": 6,
     "metadata": {},
     "output_type": "execute_result"
    }
   ],
   "source": [
    "#list the available databases\n",
    "bw.databases"
   ]
  },
  {
   "cell_type": "code",
   "execution_count": 7,
   "id": "859be585",
   "metadata": {},
   "outputs": [
    {
     "name": "stdout",
     "output_type": "stream",
     "text": [
      "Database has already been imported.\n"
     ]
    }
   ],
   "source": [
    "#import ecoinvent database\n",
    "#note: the variable name need to be updated according to the version of ecoinvent database (e.g., ecoinvent 3.9_cutoff, fpei39cut, ei39cut) \n",
    "\n",
    "if 'ecoinvent 3.9_cutoff' in bw.databases:   \n",
    "    print(\"Database has already been imported.\")\n",
    "else:\n",
    "    # mind that the ecoinvent file must be unzipped; then: path to the datasets subfolder\n",
    "    fpei39cut = r\"C:\\Users\\89751\\OneDrive\\桌面\\Brightway2\\Database\\ecoinvent 3.9_cutoff_ecoSpold02\\datasets\"  \n",
    "    ei39cut = bw.SingleOutputEcospold2Importer(fpei39cut, 'ecoinvent 3.9_cutoff')   \n",
    "    ei39cut\n",
    "    ei39cut.apply_strategies()\n",
    "    ei39cut.statistics()"
   ]
  },
  {
   "cell_type": "code",
   "execution_count": 8,
   "id": "465d2723",
   "metadata": {},
   "outputs": [
    {
     "ename": "NameError",
     "evalue": "name 'ei39cut' is not defined",
     "output_type": "error",
     "traceback": [
      "\u001b[1;31m---------------------------------------------------------------------------\u001b[0m",
      "\u001b[1;31mNameError\u001b[0m                                 Traceback (most recent call last)",
      "\u001b[1;32m~\\AppData\\Local\\Temp\\ipykernel_33492\\3861317309.py\u001b[0m in \u001b[0;36m<module>\u001b[1;34m\u001b[0m\n\u001b[0;32m      1\u001b[0m \u001b[1;31m#write database to disk --> actually saves it\u001b[0m\u001b[1;33m\u001b[0m\u001b[1;33m\u001b[0m\u001b[0m\n\u001b[1;32m----> 2\u001b[1;33m \u001b[0mei39cut\u001b[0m\u001b[1;33m.\u001b[0m\u001b[0mwrite_database\u001b[0m\u001b[1;33m(\u001b[0m\u001b[1;33m)\u001b[0m\u001b[1;33m\u001b[0m\u001b[1;33m\u001b[0m\u001b[0m\n\u001b[0m",
      "\u001b[1;31mNameError\u001b[0m: name 'ei39cut' is not defined"
     ]
    }
   ],
   "source": [
    "#write database to disk --> actually saves it\n",
    "ei39cut.write_database()"
   ]
  },
  {
   "cell_type": "code",
   "execution_count": 9,
   "id": "6af6586d",
   "metadata": {
    "scrolled": false
   },
   "outputs": [
    {
     "data": {
      "text/plain": [
       "Databases dictionary with 3 object(s):\n",
       "\tbiosphere3\n",
       "\tecoinvent 3.9_cutoff\n",
       "\telegancy"
      ]
     },
     "execution_count": 9,
     "metadata": {},
     "output_type": "execute_result"
    }
   ],
   "source": [
    "#list the available databases - again\n",
    "bw.databases"
   ]
  },
  {
   "cell_type": "markdown",
   "id": "6f3ea57d",
   "metadata": {},
   "source": [
    "<span style=\"color:black;font-weight:600;font-size:20px\">\n",
    "    3. LCA\n",
    "</span>"
   ]
  },
  {
   "cell_type": "code",
   "execution_count": 10,
   "id": "f82715f5",
   "metadata": {},
   "outputs": [],
   "source": [
    "#assign a variable to the database (eidb, bs)\n",
    "eidb = bw.Database('ecoinvent 3.9_cutoff')\n",
    "bs = bw.Database('biosphere3')     "
   ]
  },
  {
   "cell_type": "code",
   "execution_count": 11,
   "id": "12fc8b70",
   "metadata": {},
   "outputs": [],
   "source": [
    "#create a new database (e.g., elegancy) to store created activities\n",
    "db1 = bw.Database('elegancy')\n",
    "db1.register()"
   ]
  },
  {
   "cell_type": "code",
   "execution_count": 12,
   "id": "b16d4383",
   "metadata": {},
   "outputs": [
    {
     "data": {
      "text/plain": [
       "Databases dictionary with 3 object(s):\n",
       "\tbiosphere3\n",
       "\tecoinvent 3.9_cutoff\n",
       "\telegancy"
      ]
     },
     "execution_count": 12,
     "metadata": {},
     "output_type": "execute_result"
    }
   ],
   "source": [
    "#list the available databases - again\n",
    "bw.databases"
   ]
  },
  {
   "cell_type": "markdown",
   "id": "0dfed57f",
   "metadata": {},
   "source": [
    "<span style=\"color:black;font-weight:600;font-size:16px\">\n",
    "Define functions\n",
    "<span>"
   ]
  },
  {
   "cell_type": "code",
   "execution_count": 20,
   "id": "96dca54a",
   "metadata": {},
   "outputs": [],
   "source": [
    "#define a function to create new activity in the database\n",
    "def create_new_activity (name, unit, uuid):\n",
    "    activity = db1.new_activity(code=uuid, name=name, unit=unit)   \n",
    "    activity.save() #save the created activity"
   ]
  },
  {
   "cell_type": "code",
   "execution_count": 14,
   "id": "55c2374d",
   "metadata": {},
   "outputs": [],
   "source": [
    "#define a function to search the activities (unit processes) from an ecoinvent database\n",
    "def search_ei_act(excel_file_path, sheet_name):\n",
    "    act_identified_dict = {'Name':[], 'location':[], 'unit':[], 'code':[]}\n",
    "    \n",
    "    df = pd.read_excel(excel_file_path, sheet_name=sheet_name, engine='openpyxl')\n",
    "    \n",
    "    for _, row in df.iterrows():\n",
    "        if pd.isna(row[0]):\n",
    "            continue\n",
    "            \n",
    "        name = row[0]\n",
    "        location = row[1]\n",
    "        \n",
    "        matching_activities = [act for act in eidb if name in act['name'] and location in act['location']]\n",
    "        \n",
    "        for act in matching_activities:\n",
    "            act_identified_dict['Name'].append(act['name'])\n",
    "            act_identified_dict['location'].append(act['location'])\n",
    "            act_identified_dict['unit'].append(act['unit'])\n",
    "            act_identified_dict['code'].append(act['code'])\n",
    "            \n",
    "        act_identified_df = pd.DataFrame(act_identified_dict)\n",
    "    return act_identified_df\n",
    "    "
   ]
  },
  {
   "cell_type": "code",
   "execution_count": 15,
   "id": "e9b7e2f9",
   "metadata": {},
   "outputs": [],
   "source": [
    "#define a function to broad search the activities (unit processes) from an ecoinvent database (without location)\n",
    "def broad_search_ei_act(excel_file_path):\n",
    "    act_identified_dict = {'Name':[], 'location':[], 'unit':[], 'code':[]}\n",
    "    \n",
    "    df = pd.read_excel(excel_file_path, sheet_name=\"Activity_without_location\", engine='openpyxl')\n",
    "    \n",
    "    for _, row in df.iterrows():\n",
    "            \n",
    "        name = row[0]\n",
    "        \n",
    "        matching_activities = [act for act in eidb if name in act['name']]\n",
    "        \n",
    "        for act in matching_activities:\n",
    "            act_identified_dict['Name'].append(act['name'])\n",
    "            act_identified_dict['location'].append(act['location'])\n",
    "            act_identified_dict['unit'].append(act['unit'])\n",
    "            act_identified_dict['code'].append(act['code'])\n",
    "            \n",
    "        act_identified_df = pd.DataFrame(act_identified_dict)\n",
    "    return act_identified_df"
   ]
  },
  {
   "cell_type": "code",
   "execution_count": 16,
   "id": "37c346a0",
   "metadata": {},
   "outputs": [],
   "source": [
    "#define a function to search elementary flows from the biosphere3 database\n",
    "def search_bs_act(excel_file_path, sheet_name):\n",
    "    act_identified_dict = {'Name':[], 'unit':[], 'code':[]}\n",
    "    \n",
    "    bs = bw.Database('biosphere3')\n",
    "    \n",
    "    df = pd.read_excel(excel_file_path, sheet_name=sheet_name, engine='openpyxl')\n",
    "    \n",
    "    for _, row in df.iterrows():\n",
    "        if pd.isna(row[9]):\n",
    "            continue\n",
    "            \n",
    "        name = str(row[9])\n",
    "        \n",
    "        matching_activities = [act for act in bs if name in act['name']]\n",
    "        \n",
    "        for act in matching_activities:\n",
    "            act_identified_dict['Name'].append(act['name'])\n",
    "            act_identified_dict['unit'].append(act['unit'])\n",
    "            act_identified_dict['code'].append(act['code'])\n",
    "            \n",
    "        act_identified_df = pd.DataFrame(act_identified_dict)\n",
    "    return act_identified_df"
   ]
  },
  {
   "cell_type": "code",
   "execution_count": 17,
   "id": "e1721354",
   "metadata": {},
   "outputs": [],
   "source": [
    "#define a function to input technosphere and elementary flows into the activity\n",
    "def input_flows (excel_file_path, sheet_name, activity_uuid):\n",
    "    df = pd.read_excel(excel_file_path, sheet_name=sheet_name)\n",
    "    \n",
    "    activity = db1.get(activity_uuid)\n",
    "    for idx, row in df.iterrows():\n",
    "        if not pd.isna(row['uuid1']):\n",
    "            uuid = row['uuid1']\n",
    "            input_activity = eidb.get(uuid)        \n",
    "            activity.new_exchange(input=input_activity.key, amount=row['amount1'], unit=row['unit1'], type='technosphere').save()   \n",
    "            activity.save()   \n",
    "        \n",
    "    for idx, row in df.iterrows():\n",
    "        if not pd.isna(row['uuid2']):\n",
    "            uuid = row['uuid2']\n",
    "            input_activity = bs.get(uuid)\n",
    "            activity.new_exchange(input=input_activity.key, amount=row['amount2'], unit=row['unit2'], type='biosphere').save()   \n",
    "            activity.save()  "
   ]
  },
  {
   "cell_type": "code",
   "execution_count": 18,
   "id": "a0934d1f",
   "metadata": {},
   "outputs": [],
   "source": [
    "#define a function to search LCI methods: \n",
    "def search_LCIA(excel_file_path):\n",
    "    lcia_methods = []\n",
    "       \n",
    "    df = pd.read_excel(excel_file_path, sheet_name=\"LCIA_methods\", engine='openpyxl')  \n",
    "    \n",
    "    for bw_method in methods:\n",
    "        for _, row in df.iterrows():\n",
    "            lvl_0 = row[0]\n",
    "            lvl_1 = row[1]\n",
    "            lvl_2 = row[2]\n",
    "            if lvl_0 in bw_method[0]:\n",
    "                if lvl_1 in bw_method[1]:\n",
    "                    if lvl_2 in bw_method[2]:\n",
    "                        lcia_methods.append(bw_method)\n",
    "                    else: continue\n",
    "                else: continue\n",
    "            else: continue\n",
    "                \n",
    "    return lcia_methods"
   ]
  },
  {
   "cell_type": "markdown",
   "id": "dcdd954b",
   "metadata": {},
   "source": [
    "<span style=\"color:black;font-weight:600;font-size:16px\">\n",
    "Build foreground system\n",
    "<span>"
   ]
  },
  {
   "cell_type": "code",
   "execution_count": 21,
   "id": "ea7ad721",
   "metadata": {},
   "outputs": [],
   "source": [
    "#import the excel file\n",
    "excel_file_path = 'C:/Users/89751/OneDrive/桌面/Brightway2/test11.xlsx'   #update the excel address here"
   ]
  },
  {
   "cell_type": "code",
   "execution_count": 22,
   "id": "1fe5d5de",
   "metadata": {},
   "outputs": [],
   "source": [
    "#create activities (name, unit, and uuid)\n",
    "Activity1_name = 'Activity1'   #Activity_name\n",
    "Activity1_unit = 'kg'    #Activity_unit\n",
    "Activity1_uuid = '1111'    #Activity_uuid\n",
    "\n",
    "Activity2_name = 'Activity2'\n",
    "Activity2_unit = 'kg'\n",
    "Activity2_uuid = '2222'\n",
    "\n",
    "Activity3_name = 'Activity3'\n",
    "Activity3_unit = 'kg'\n",
    "Activity3_uuid = '3333'\n",
    "\n",
    "\n",
    "#create activities in the database ('elegency')\n",
    "#call: create_new_activity(Activity_name, Activity_unit, Activity_uuid)\n",
    "Activity1 = create_new_activity (Activity1_name, Activity1_unit, Activity1_uuid)\n",
    "Activity2 = create_new_activity (Activity2_name, Activity2_unit, Activity2_uuid)\n",
    "Activity3 = create_new_activity (Activity3_name, Activity3_unit, Activity3_uuid)"
   ]
  },
  {
   "cell_type": "code",
   "execution_count": 23,
   "id": "557fd9ec",
   "metadata": {},
   "outputs": [],
   "source": [
    "#search unit processes from the database\n",
    "sheet_name = 'Activity1'   #update the sheet_name\n",
    "\n",
    "#call: search_ei/bs_act(excel_file_path, sheet_name)\n",
    "techno_flow_options = search_ei_act(excel_file_path, sheet_name)   #search from the ecoinvent database\n",
    "element_flow_options = search_bs_act(excel_file_path, sheet_name)   #search from the biosphere database"
   ]
  },
  {
   "cell_type": "code",
   "execution_count": 24,
   "id": "df7c65d7",
   "metadata": {
    "scrolled": true
   },
   "outputs": [
    {
     "data": {
      "text/html": [
       "<div>\n",
       "<style scoped>\n",
       "    .dataframe tbody tr th:only-of-type {\n",
       "        vertical-align: middle;\n",
       "    }\n",
       "\n",
       "    .dataframe tbody tr th {\n",
       "        vertical-align: top;\n",
       "    }\n",
       "\n",
       "    .dataframe thead th {\n",
       "        text-align: right;\n",
       "    }\n",
       "</style>\n",
       "<table border=\"1\" class=\"dataframe\">\n",
       "  <thead>\n",
       "    <tr style=\"text-align: right;\">\n",
       "      <th></th>\n",
       "      <th>Name</th>\n",
       "      <th>location</th>\n",
       "      <th>unit</th>\n",
       "      <th>code</th>\n",
       "    </tr>\n",
       "  </thead>\n",
       "  <tbody>\n",
       "    <tr>\n",
       "      <th>0</th>\n",
       "      <td>market for battery cell, Li-ion, LiMn2O4</td>\n",
       "      <td>GLO</td>\n",
       "      <td>kilogram</td>\n",
       "      <td>4834ba6a5ffd0c3cc22cbda7c95e6a53</td>\n",
       "    </tr>\n",
       "    <tr>\n",
       "      <th>1</th>\n",
       "      <td>market for cable, data cable in infrastructure</td>\n",
       "      <td>GLO</td>\n",
       "      <td>meter</td>\n",
       "      <td>a258b4b6cb7d325096324358813d8d60</td>\n",
       "    </tr>\n",
       "    <tr>\n",
       "      <th>2</th>\n",
       "      <td>market for cable, three-conductor cable</td>\n",
       "      <td>GLO</td>\n",
       "      <td>meter</td>\n",
       "      <td>a956b9992ddea711a0da44c0c9f6eea5</td>\n",
       "    </tr>\n",
       "    <tr>\n",
       "      <th>3</th>\n",
       "      <td>market for metal working factory</td>\n",
       "      <td>GLO</td>\n",
       "      <td>unit</td>\n",
       "      <td>6151193e6f9d2a12d8628c206bcfeeda</td>\n",
       "    </tr>\n",
       "    <tr>\n",
       "      <th>4</th>\n",
       "      <td>market for printed wiring board, surface mount...</td>\n",
       "      <td>GLO</td>\n",
       "      <td>kilogram</td>\n",
       "      <td>7471771e14369976fb8c588cbf029c3d</td>\n",
       "    </tr>\n",
       "    <tr>\n",
       "      <th>5</th>\n",
       "      <td>market for printed wiring board, surface mount...</td>\n",
       "      <td>GLO</td>\n",
       "      <td>kilogram</td>\n",
       "      <td>23beebbf3e563b5b2be135f91d60788d</td>\n",
       "    </tr>\n",
       "    <tr>\n",
       "      <th>6</th>\n",
       "      <td>market for reinforcing steel</td>\n",
       "      <td>GLO</td>\n",
       "      <td>kilogram</td>\n",
       "      <td>e9449b977358d4978e600de7c8d63bc7</td>\n",
       "    </tr>\n",
       "    <tr>\n",
       "      <th>7</th>\n",
       "      <td>market for sheet rolling, steel</td>\n",
       "      <td>GLO</td>\n",
       "      <td>kilogram</td>\n",
       "      <td>ff2b3d0719d526d234a98971e4de530d</td>\n",
       "    </tr>\n",
       "  </tbody>\n",
       "</table>\n",
       "</div>"
      ],
      "text/plain": [
       "                                                Name location      unit  \\\n",
       "0           market for battery cell, Li-ion, LiMn2O4      GLO  kilogram   \n",
       "1     market for cable, data cable in infrastructure      GLO     meter   \n",
       "2            market for cable, three-conductor cable      GLO     meter   \n",
       "3                   market for metal working factory      GLO      unit   \n",
       "4  market for printed wiring board, surface mount...      GLO  kilogram   \n",
       "5  market for printed wiring board, surface mount...      GLO  kilogram   \n",
       "6                       market for reinforcing steel      GLO  kilogram   \n",
       "7                    market for sheet rolling, steel      GLO  kilogram   \n",
       "\n",
       "                               code  \n",
       "0  4834ba6a5ffd0c3cc22cbda7c95e6a53  \n",
       "1  a258b4b6cb7d325096324358813d8d60  \n",
       "2  a956b9992ddea711a0da44c0c9f6eea5  \n",
       "3  6151193e6f9d2a12d8628c206bcfeeda  \n",
       "4  7471771e14369976fb8c588cbf029c3d  \n",
       "5  23beebbf3e563b5b2be135f91d60788d  \n",
       "6  e9449b977358d4978e600de7c8d63bc7  \n",
       "7  ff2b3d0719d526d234a98971e4de530d  "
      ]
     },
     "execution_count": 24,
     "metadata": {},
     "output_type": "execute_result"
    }
   ],
   "source": [
    "#check identified technosphere flows\n",
    "techno_flow_options"
   ]
  },
  {
   "cell_type": "code",
   "execution_count": 25,
   "id": "61e4f7ea",
   "metadata": {},
   "outputs": [
    {
     "data": {
      "text/html": [
       "<div>\n",
       "<style scoped>\n",
       "    .dataframe tbody tr th:only-of-type {\n",
       "        vertical-align: middle;\n",
       "    }\n",
       "\n",
       "    .dataframe tbody tr th {\n",
       "        vertical-align: top;\n",
       "    }\n",
       "\n",
       "    .dataframe thead th {\n",
       "        text-align: right;\n",
       "    }\n",
       "</style>\n",
       "<table border=\"1\" class=\"dataframe\">\n",
       "  <thead>\n",
       "    <tr style=\"text-align: right;\">\n",
       "      <th></th>\n",
       "      <th>Name</th>\n",
       "      <th>unit</th>\n",
       "      <th>code</th>\n",
       "    </tr>\n",
       "  </thead>\n",
       "  <tbody>\n",
       "    <tr>\n",
       "      <th>0</th>\n",
       "      <td>Water, well, in ground</td>\n",
       "      <td>cubic meter</td>\n",
       "      <td>67c40aae-d403-464d-9649-c12695e43ad8</td>\n",
       "    </tr>\n",
       "  </tbody>\n",
       "</table>\n",
       "</div>"
      ],
      "text/plain": [
       "                     Name         unit                                  code\n",
       "0  Water, well, in ground  cubic meter  67c40aae-d403-464d-9649-c12695e43ad8"
      ]
     },
     "execution_count": 25,
     "metadata": {},
     "output_type": "execute_result"
    }
   ],
   "source": [
    "#check identified elementary flows\n",
    "element_flow_options"
   ]
  },
  {
   "cell_type": "code",
   "execution_count": 26,
   "id": "94e89a5a",
   "metadata": {},
   "outputs": [
    {
     "data": {
      "text/html": [
       "<div>\n",
       "<style scoped>\n",
       "    .dataframe tbody tr th:only-of-type {\n",
       "        vertical-align: middle;\n",
       "    }\n",
       "\n",
       "    .dataframe tbody tr th {\n",
       "        vertical-align: top;\n",
       "    }\n",
       "\n",
       "    .dataframe thead th {\n",
       "        text-align: right;\n",
       "    }\n",
       "</style>\n",
       "<table border=\"1\" class=\"dataframe\">\n",
       "  <thead>\n",
       "    <tr style=\"text-align: right;\">\n",
       "      <th></th>\n",
       "      <th>Name</th>\n",
       "      <th>location</th>\n",
       "      <th>unit</th>\n",
       "      <th>code</th>\n",
       "    </tr>\n",
       "  </thead>\n",
       "  <tbody>\n",
       "    <tr>\n",
       "      <th>0</th>\n",
       "      <td>market for battery cell, Li-ion, LiMn2O4</td>\n",
       "      <td>GLO</td>\n",
       "      <td>kilogram</td>\n",
       "      <td>4834ba6a5ffd0c3cc22cbda7c95e6a53</td>\n",
       "    </tr>\n",
       "    <tr>\n",
       "      <th>1</th>\n",
       "      <td>market for cable, data cable in infrastructure</td>\n",
       "      <td>GLO</td>\n",
       "      <td>meter</td>\n",
       "      <td>a258b4b6cb7d325096324358813d8d60</td>\n",
       "    </tr>\n",
       "  </tbody>\n",
       "</table>\n",
       "</div>"
      ],
      "text/plain": [
       "                                             Name location      unit  \\\n",
       "0        market for battery cell, Li-ion, LiMn2O4      GLO  kilogram   \n",
       "1  market for cable, data cable in infrastructure      GLO     meter   \n",
       "\n",
       "                               code  \n",
       "0  4834ba6a5ffd0c3cc22cbda7c95e6a53  \n",
       "1  a258b4b6cb7d325096324358813d8d60  "
      ]
     },
     "execution_count": 26,
     "metadata": {},
     "output_type": "execute_result"
    }
   ],
   "source": [
    "#If you cannot find appropriate technosphere flows, input the flow name in sheet 'Activity_without_location' and try the broad search_ei_act(excel_file_path) function\n",
    "\n",
    "techno_flow_broad_option = broad_search_ei_act(excel_file_path) \n",
    "techno_flow_broad_option"
   ]
  },
  {
   "cell_type": "code",
   "execution_count": 27,
   "id": "1f674557",
   "metadata": {},
   "outputs": [],
   "source": [
    "#next, select the relevant flows and enter their UUID codes into Excel: uuid1 (technosphere) and uuid2 (biosphere).\n",
    "#repeat this process for each activity sheet (e.g., Activity1, Activity2, Activity3) until all flows are matched with their respective UUIDs."
   ]
  },
  {
   "cell_type": "code",
   "execution_count": 28,
   "id": "7bf18ac7",
   "metadata": {},
   "outputs": [
    {
     "name": "stdout",
     "output_type": "stream",
     "text": [
      "Exchange: 0.799 kilogram 'market for battery cell, Li-ion, LiMn2O4' (kilogram, GLO, None) to 'Activity1' (kg, GLO, None)>\n",
      "Exchange: 0.373 meter 'market for cable, data cable in infrastructure' (meter, GLO, None) to 'Activity1' (kg, GLO, None)>\n",
      "Exchange: 0.025 meter 'market for cable, three-conductor cable' (meter, GLO, None) to 'Activity1' (kg, GLO, None)>\n",
      "Exchange: 4.58e-10 unit 'market for metal working factory' (unit, GLO, None) to 'Activity1' (kg, GLO, None)>\n",
      "Exchange: 0.00102 kilogram 'market for printed wiring board, surface mounted, unspecified, Pb containing' (kilogram, GLO, None) to 'Activity1' (kg, GLO, None)>\n",
      "Exchange: 0.00237 kilogram 'market for printed wiring board, surface mounted, unspecified, Pb free' (kilogram, GLO, None) to 'Activity1' (kg, GLO, None)>\n",
      "Exchange: 0.145 kilogram 'market for reinforcing steel' (kilogram, GLO, None) to 'Activity1' (kg, GLO, None)>\n",
      "Exchange: 0.145 kilogram 'market for sheet rolling, steel' (kilogram, GLO, None) to 'Activity1' (kg, GLO, None)>\n",
      "Exchange: 2.93e-05 cubic meter 'Water, well, in ground' (cubic meter, None, ('natural resource', 'in water')) to 'Activity1' (kg, GLO, None)>\n"
     ]
    }
   ],
   "source": [
    "#input technosphere and elementary flows into the activity1\n",
    "\n",
    "sheet_name = 'Activity1'   #update the sheet_name here\n",
    "Activity_uuid = Activity1_uuid   #update the Activity_uuid here\n",
    "\n",
    "#call: input_flows(excel_file_path, sheet_name, Activity_uuid)  \n",
    "input_flows(excel_file_path, sheet_name, Activity_uuid)   \n",
    "\n",
    "activity = db1.get(Activity_uuid)   #print all exchanges in the activity1\n",
    "for exc in activity.exchanges(): \n",
    "    print(exc)"
   ]
  },
  {
   "cell_type": "code",
   "execution_count": 29,
   "id": "78b2bd57",
   "metadata": {},
   "outputs": [
    {
     "name": "stdout",
     "output_type": "stream",
     "text": [
      "Exchange: 0.108 kilowatt hour 'market group for electricity, low voltage' (kilowatt hour, GLO, None) to 'Activity2' (kg, GLO, None)>\n",
      "Exchange: 2.93e-05 cubic meter 'Water, well, in ground' (cubic meter, None, ('natural resource', 'in water')) to 'Activity2' (kg, GLO, None)>\n"
     ]
    }
   ],
   "source": [
    "#input technosphere and elementary flows into the activity2\n",
    "\n",
    "sheet_name = 'Activity2'   #update the sheet_name here\n",
    "Activity_uuid = Activity2_uuid   #update the Activity_uuid here\n",
    "\n",
    "#call: input_flows(excel_file_path, sheet_name, Activity_uuid)  \n",
    "input_flows(excel_file_path, sheet_name, Activity_uuid)   \n",
    "\n",
    "activity = db1.get(Activity_uuid)   #print all exchanges in the activity2\n",
    "for exc in activity.exchanges(): \n",
    "    print(exc)"
   ]
  },
  {
   "cell_type": "code",
   "execution_count": 30,
   "id": "2bd26040",
   "metadata": {},
   "outputs": [
    {
     "name": "stdout",
     "output_type": "stream",
     "text": [
      "Exchange: 0.108 kilowatt hour 'market group for electricity, low voltage' (kilowatt hour, GLO, None) to 'Activity3' (kg, GLO, None)>\n",
      "Exchange: 0.373 meter 'market for cable, data cable in infrastructure' (meter, GLO, None) to 'Activity3' (kg, GLO, None)>\n",
      "Exchange: 2.93e-05 cubic meter 'Water, well, in ground' (cubic meter, None, ('natural resource', 'in water')) to 'Activity3' (kg, GLO, None)>\n"
     ]
    }
   ],
   "source": [
    "#input technosphere and elementary flows into the activity3\n",
    "\n",
    "sheet_name = 'Activity3'   #update the sheet_name here\n",
    "Activity_uuid = Activity3_uuid   #update the Activity_uuid here\n",
    "\n",
    "#call: input_flows(excel_file_path, sheet_name, Activity_uuid)  \n",
    "input_flows(excel_file_path, sheet_name, Activity_uuid)   \n",
    "\n",
    "activity = db1.get(Activity_uuid)   #print all exchanges in the activity3\n",
    "for exc in activity.exchanges(): \n",
    "    print(exc)"
   ]
  },
  {
   "cell_type": "markdown",
   "id": "27ab454c",
   "metadata": {},
   "source": [
    "<span style=\"color:black;font-weight:600;font-size:16px\">\n",
    "LCIA\n",
    "<span>"
   ]
  },
  {
   "cell_type": "code",
   "execution_count": 31,
   "id": "85f14d16",
   "metadata": {
    "scrolled": true
   },
   "outputs": [
    {
     "data": {
      "text/plain": [
       "[('TRACI v2.1 no LT',\n",
       "  'acidification no LT',\n",
       "  'acidification potential (AP) no LT'),\n",
       " ('TRACI v2.1 no LT',\n",
       "  'climate change no LT',\n",
       "  'global warming potential (GWP100) no LT'),\n",
       " ('TRACI v2.1 no LT',\n",
       "  'ecotoxicity: freshwater no LT',\n",
       "  'ecotoxicity: freshwater no LT'),\n",
       " ('TRACI v2.1 no LT',\n",
       "  'eutrophication no LT',\n",
       "  'eutrophication potential no LT'),\n",
       " ('TRACI v2.1 no LT',\n",
       "  'ozone depletion no LT',\n",
       "  'ozone depletion potential (ODP) no LT'),\n",
       " ('TRACI v2.1', 'acidification', 'acidification potential (AP)'),\n",
       " ('TRACI v2.1', 'climate change', 'global warming potential (GWP100)'),\n",
       " ('TRACI v2.1', 'ecotoxicity: freshwater', 'ecotoxicity: freshwater'),\n",
       " ('TRACI v2.1', 'eutrophication', 'eutrophication potential'),\n",
       " ('TRACI v2.1', 'ozone depletion', 'ozone depletion potential (ODP)')]"
      ]
     },
     "execution_count": 31,
     "metadata": {},
     "output_type": "execute_result"
    }
   ],
   "source": [
    "#list all of the selected LCIA methods\n",
    "method_key = search_LCIA(excel_file_path) \n",
    "method_key"
   ]
  },
  {
   "cell_type": "code",
   "execution_count": 32,
   "id": "564c58e3",
   "metadata": {},
   "outputs": [
    {
     "data": {
      "text/plain": [
       "[('TRACI v2.1', 'acidification', 'acidification potential (AP)'),\n",
       " ('TRACI v2.1', 'climate change', 'global warming potential (GWP100)'),\n",
       " ('TRACI v2.1', 'ecotoxicity: freshwater', 'ecotoxicity: freshwater'),\n",
       " ('TRACI v2.1', 'eutrophication', 'eutrophication potential'),\n",
       " ('TRACI v2.1', 'ozone depletion', 'ozone depletion potential (ODP)')]"
      ]
     },
     "execution_count": 32,
     "metadata": {},
     "output_type": "execute_result"
    }
   ],
   "source": [
    "#drop all unwanted LCIA methods from the list (e.g., 'TRACI v2.1 no LT')\n",
    "filtered_key = [item for item in method_key if item[0] != 'TRACI v2.1 no LT']   #replace the keyword here (e.g., 'TRACI v2.1 no LT')\n",
    "filtered_key"
   ]
  },
  {
   "cell_type": "markdown",
   "id": "73532ebe",
   "metadata": {},
   "source": [
    "<span style=\"color:black;font-weight:600;font-size:16px\">\n",
    "LCA calculation for multiple activities\n",
    "<span>"
   ]
  },
  {
   "cell_type": "code",
   "execution_count": 51,
   "id": "a16eff0d",
   "metadata": {},
   "outputs": [],
   "source": [
    "#define functional units for each activity\n",
    "\n",
    "activity1 = db1.get(Activity1_uuid)   #update the activity_uuid if need\n",
    "activity2 = db1.get(Activity2_uuid)\n",
    "activity3 = db1.get(Activity3_uuid)\n",
    "\n",
    "functional_units = [{activity1: 1}, {activity2: 1}, {activity3: 1}]   #update the reference flow amounts (e.g., 'activity1: 1' means manufatcuring 1 unit of activity1)"
   ]
  },
  {
   "cell_type": "code",
   "execution_count": 87,
   "id": "85c43f9b",
   "metadata": {},
   "outputs": [
    {
     "name": "stdout",
     "output_type": "stream",
     "text": [
      "     Activity                    Impact Category         Score          Unit\n",
      "0   Activity1       acidification potential (AP)  6.943708e-02     kg SO2-Eq\n",
      "1   Activity1  global warming potential (GWP100)  8.378657e+00     kg CO2-Eq\n",
      "2   Activity1            ecotoxicity: freshwater  6.103306e+02          CTUe\n",
      "3   Activity1           eutrophication potential  4.139928e-02       kg N-Eq\n",
      "4   Activity1    ozone depletion potential (ODP)  2.915551e-07  kg CFC-11-Eq\n",
      "5   Activity2       acidification potential (AP)  3.483250e-04     kg SO2-Eq\n",
      "6   Activity2  global warming potential (GWP100)  7.966781e-02     kg CO2-Eq\n",
      "7   Activity2            ecotoxicity: freshwater  1.567089e+00          CTUe\n",
      "8   Activity2           eutrophication potential  2.893012e-04       kg N-Eq\n",
      "9   Activity2    ozone depletion potential (ODP)  5.885274e-10  kg CFC-11-Eq\n",
      "10  Activity3       acidification potential (AP)  3.234964e-03     kg SO2-Eq\n",
      "11  Activity3  global warming potential (GWP100)  1.819181e-01     kg CO2-Eq\n",
      "12  Activity3            ecotoxicity: freshwater  7.112185e+01          CTUe\n",
      "13  Activity3           eutrophication potential  2.376957e-03       kg N-Eq\n",
      "14  Activity3    ozone depletion potential (ODP)  1.725403e-09  kg CFC-11-Eq\n"
     ]
    }
   ],
   "source": [
    "# Prepare DataFrame to hold results\n",
    "results_df = pd.DataFrame(columns=['Activity', 'Impact Category', 'Score', 'Unit'])\n",
    "\n",
    "rows_list = []\n",
    "\n",
    "# LCA result calculation\n",
    "for functional_unit in functional_units:\n",
    "    process_name = list(functional_unit.keys())[0]['name']\n",
    "    for LCA_method in filtered_key:\n",
    "        lca = bw.LCA(functional_unit, LCA_method)\n",
    "        lca.lci()\n",
    "        lca.lcia()\n",
    "        score = lca.score\n",
    "        unit = bw.methods[LCA_method]['unit']\n",
    "        \n",
    "        row_dict = {\n",
    "            'Activity': process_name,\n",
    "            'Impact Category': LCA_method[2],\n",
    "            'Score': lca.score,\n",
    "            'Unit': bw.methods[LCA_method]['unit']  \n",
    "        }\n",
    "        \n",
    "        # Append the row dictionary to the rows list\n",
    "        rows_list.append(row_dict)\n",
    "\n",
    "Overall_LCA_result = pd.DataFrame(rows_list)\n",
    "\n",
    "print(Overall_LCA_result)"
   ]
  },
  {
   "cell_type": "code",
   "execution_count": 89,
   "id": "bf0702e8",
   "metadata": {},
   "outputs": [
    {
     "data": {
      "text/html": [
       "<div>\n",
       "<style scoped>\n",
       "    .dataframe tbody tr th:only-of-type {\n",
       "        vertical-align: middle;\n",
       "    }\n",
       "\n",
       "    .dataframe tbody tr th {\n",
       "        vertical-align: top;\n",
       "    }\n",
       "\n",
       "    .dataframe thead th {\n",
       "        text-align: right;\n",
       "    }\n",
       "</style>\n",
       "<table border=\"1\" class=\"dataframe\">\n",
       "  <thead>\n",
       "    <tr style=\"text-align: right;\">\n",
       "      <th></th>\n",
       "      <th>Activity</th>\n",
       "      <th>Activity1</th>\n",
       "      <th>Activity2</th>\n",
       "      <th>Activity3</th>\n",
       "    </tr>\n",
       "    <tr>\n",
       "      <th>Impact Category</th>\n",
       "      <th>Unit</th>\n",
       "      <th></th>\n",
       "      <th></th>\n",
       "      <th></th>\n",
       "    </tr>\n",
       "  </thead>\n",
       "  <tbody>\n",
       "    <tr>\n",
       "      <th>acidification potential (AP)</th>\n",
       "      <th>kg SO2-Eq</th>\n",
       "      <td>6.943708e-02</td>\n",
       "      <td>3.483250e-04</td>\n",
       "      <td>3.234964e-03</td>\n",
       "    </tr>\n",
       "    <tr>\n",
       "      <th>ecotoxicity: freshwater</th>\n",
       "      <th>CTUe</th>\n",
       "      <td>6.103306e+02</td>\n",
       "      <td>1.567089e+00</td>\n",
       "      <td>7.112185e+01</td>\n",
       "    </tr>\n",
       "    <tr>\n",
       "      <th>eutrophication potential</th>\n",
       "      <th>kg N-Eq</th>\n",
       "      <td>4.139928e-02</td>\n",
       "      <td>2.893012e-04</td>\n",
       "      <td>2.376957e-03</td>\n",
       "    </tr>\n",
       "    <tr>\n",
       "      <th>global warming potential (GWP100)</th>\n",
       "      <th>kg CO2-Eq</th>\n",
       "      <td>8.378657e+00</td>\n",
       "      <td>7.966781e-02</td>\n",
       "      <td>1.819181e-01</td>\n",
       "    </tr>\n",
       "    <tr>\n",
       "      <th>ozone depletion potential (ODP)</th>\n",
       "      <th>kg CFC-11-Eq</th>\n",
       "      <td>2.915551e-07</td>\n",
       "      <td>5.885274e-10</td>\n",
       "      <td>1.725403e-09</td>\n",
       "    </tr>\n",
       "  </tbody>\n",
       "</table>\n",
       "</div>"
      ],
      "text/plain": [
       "Activity                                           Activity1     Activity2  \\\n",
       "Impact Category                   Unit                                       \n",
       "acidification potential (AP)      kg SO2-Eq     6.943708e-02  3.483250e-04   \n",
       "ecotoxicity: freshwater           CTUe          6.103306e+02  1.567089e+00   \n",
       "eutrophication potential          kg N-Eq       4.139928e-02  2.893012e-04   \n",
       "global warming potential (GWP100) kg CO2-Eq     8.378657e+00  7.966781e-02   \n",
       "ozone depletion potential (ODP)   kg CFC-11-Eq  2.915551e-07  5.885274e-10   \n",
       "\n",
       "Activity                                           Activity3  \n",
       "Impact Category                   Unit                        \n",
       "acidification potential (AP)      kg SO2-Eq     3.234964e-03  \n",
       "ecotoxicity: freshwater           CTUe          7.112185e+01  \n",
       "eutrophication potential          kg N-Eq       2.376957e-03  \n",
       "global warming potential (GWP100) kg CO2-Eq     1.819181e-01  \n",
       "ozone depletion potential (ODP)   kg CFC-11-Eq  1.725403e-09  "
      ]
     },
     "execution_count": 89,
     "metadata": {},
     "output_type": "execute_result"
    }
   ],
   "source": [
    "#reorganize the result format\n",
    "Overall_LCA_result1 = Overall_LCA_result.pivot(index=['Impact Category','Unit'], columns='Activity', values='Score')\n",
    "Overall_LCA_result1"
   ]
  },
  {
   "cell_type": "code",
   "execution_count": 90,
   "id": "5cd51661",
   "metadata": {},
   "outputs": [],
   "source": [
    "#export LCA results (multiple activities) to an excel file\n",
    "\n",
    "excel_file_path = 'C:/Users/89751/OneDrive/桌面/Book1.xlsx'   #create a new Excel file and load the address here\n",
    "\n",
    "with pd.ExcelWriter(excel_file_path, engine='xlsxwriter') as writer:\n",
    "    # Write the first DataFrame (df) to a sheet named 'lca_result'\n",
    "    Overall_LCA_result.to_excel(writer, sheet_name='overall_lca_result', index=False)"
   ]
  },
  {
   "cell_type": "markdown",
   "id": "9bdda855",
   "metadata": {},
   "source": [
    "<span style=\"color:black;font-weight:600;font-size:16px\">\n",
    "LCA calculation for the single activity with contribution analysis\n",
    "<span>"
   ]
  },
  {
   "cell_type": "code",
   "execution_count": 80,
   "id": "87ed83e1",
   "metadata": {},
   "outputs": [],
   "source": [
    "#define functional units for the activity\n",
    "\n",
    "activity1 = db1.get(Activity1_uuid)   #update the activity_uuid if need\n",
    "functional_unit = {activity1:1} "
   ]
  },
  {
   "cell_type": "code",
   "execution_count": 81,
   "id": "9f10a1bd",
   "metadata": {},
   "outputs": [
    {
     "name": "stdout",
     "output_type": "stream",
     "text": [
      "[0.06943708440592876, 8.378656867679991, 610.3306300717932, 0.041399280409140676, 2.915551052578594e-07]\n"
     ]
    }
   ],
   "source": [
    "#LCA results calculation and contribution analysis\n",
    "lca_results = []\n",
    "lca_contribution_results = []\n",
    "\n",
    "i=5   #Set the the number of flows shown from the contribution analysis.\n",
    "\n",
    "for LCA_method in filtered_key:\n",
    "    lca = bw.LCA(functional_unit, LCA_method)\n",
    "    lca.lci()\n",
    "    lca.lcia()\n",
    "    score = lca.score\n",
    "    ca = bwa.ContributionAnalysis()\n",
    "    data = ca.annotated_top_processes(lca, limit=i)\n",
    "    lca_results.append(score)\n",
    "    lca_contribution_results.append(data)\n",
    "    \n",
    "print (lca_results)"
   ]
  },
  {
   "cell_type": "code",
   "execution_count": 82,
   "id": "1e502d56",
   "metadata": {},
   "outputs": [
    {
     "data": {
      "text/plain": [
       "{'Activity1' (kg, GLO, None): 1}"
      ]
     },
     "execution_count": 82,
     "metadata": {},
     "output_type": "execute_result"
    }
   ],
   "source": [
    "lca.demand"
   ]
  },
  {
   "cell_type": "code",
   "execution_count": 83,
   "id": "6810b51d",
   "metadata": {},
   "outputs": [
    {
     "data": {
      "text/plain": [
       "[0.06943708440592876,\n",
       " 8.378656867679991,\n",
       " 610.3306300717932,\n",
       " 0.041399280409140676,\n",
       " 2.915551052578594e-07]"
      ]
     },
     "execution_count": 83,
     "metadata": {},
     "output_type": "execute_result"
    }
   ],
   "source": [
    "lca_results"
   ]
  },
  {
   "cell_type": "code",
   "execution_count": 84,
   "id": "af6b3688",
   "metadata": {},
   "outputs": [
    {
     "name": "stdout",
     "output_type": "stream",
     "text": [
      "The acidification potential (AP) results for the Activity1 process is 6.944e-02 kg SO2-Eq.\n",
      "The global warming potential (GWP100) results for the Activity1 process is 8.379e+00 kg CO2-Eq.\n",
      "The ecotoxicity: freshwater results for the Activity1 process is 6.103e+02 CTUe.\n",
      "The eutrophication potential results for the Activity1 process is 4.140e-02 kg N-Eq.\n",
      "The ozone depletion potential (ODP) results for the Activity1 process is 2.916e-07 kg CFC-11-Eq.\n"
     ]
    }
   ],
   "source": [
    "#print the results\n",
    "for result, method in zip(lca_results, filtered_key):\n",
    "    key = tuple(method)\n",
    "    method_key = method[2]\n",
    "    process_name = list(functional_unit.keys())[0]['name']\n",
    "    unit = bw.methods.get(key).get('unit', 'unknown unit')  # Provide a default if 'unit' is not found\n",
    "    print(\"The {} results for the {} process is {:.3e} {}.\".format(method_key, process_name, result, unit))"
   ]
  },
  {
   "cell_type": "code",
   "execution_count": 100,
   "id": "af33c7ba",
   "metadata": {},
   "outputs": [
    {
     "name": "stdout",
     "output_type": "stream",
     "text": [
      "                          method_key        result          unit\n",
      "0       acidification potential (AP)  6.943708e-02     kg SO2-Eq\n",
      "1  global warming potential (GWP100)  8.378657e+00     kg CO2-Eq\n",
      "2            ecotoxicity: freshwater  6.103306e+02          CTUe\n",
      "3           eutrophication potential  4.139928e-02       kg N-Eq\n",
      "4    ozone depletion potential (ODP)  2.915551e-07  kg CFC-11-Eq\n"
     ]
    }
   ],
   "source": [
    "#print the result as a pd.dataframe format\n",
    "\n",
    "df = pd.DataFrame(columns=['method_key', 'result', 'unit'])\n",
    "dfs_to_concat = []\n",
    "\n",
    "\n",
    "for result, method in zip(lca_results, filtered_key):\n",
    "    key = tuple(method)\n",
    "    method_key, unit = method[2], bw.methods.get(key, {'unit': 'unknown unit'}).get('unit')\n",
    "    \n",
    "    result = pd.to_numeric(result, errors='coerce')\n",
    "    \n",
    "    row = {'method_key': method_key, 'result': result, 'unit': unit}\n",
    "    dfs_to_concat.append(pd.DataFrame([row]))\n",
    "\n",
    "LCA_result1 = pd.concat(dfs_to_concat, ignore_index=True)\n",
    "\n",
    "print(LCA_result)"
   ]
  },
  {
   "cell_type": "code",
   "execution_count": 101,
   "id": "e4884bb1",
   "metadata": {
    "scrolled": true
   },
   "outputs": [
    {
     "data": {
      "text/plain": [
       "[[(0.02013515645314219,\n",
       "   0.28637685360579285,\n",
       "   'synthetic graphite production, battery grade' (kilogram, RoW, None)),\n",
       "  (0.0028187457240390736,\n",
       "   0.005609730377687335,\n",
       "   'smelting of copper concentrate, sulfide ore' (kilogram, CN, None)),\n",
       "  (0.002521854817473607,\n",
       "   0.005500447441776105,\n",
       "   'smelting of copper concentrate, sulfide ore' (kilogram, RoW, None)),\n",
       "  (0.0022070498622634785,\n",
       "   2.6055106253254823,\n",
       "   'heat production, at hard coal industrial furnace 1-10MW' (megajoule, RoW, None)),\n",
       "  (0.001558553242401338,\n",
       "   0.004548926676238322,\n",
       "   'blasting' (kilogram, RoW, None))],\n",
       " [(0.3981772912812932,\n",
       "   1.165215399103026,\n",
       "   'hard coal mine operation and hard coal preparation' (kilogram, CN, None)),\n",
       "  (0.29979005949338683,\n",
       "   2.6055106253254823,\n",
       "   'heat production, at hard coal industrial furnace 1-10MW' (megajoule, RoW, None)),\n",
       "  (0.2502559069751329,\n",
       "   0.18504371146656087,\n",
       "   'electricity production, hard coal' (kilowatt hour, CN-NM, None)),\n",
       "  (0.2115533277758135,\n",
       "   0.014451351562393449,\n",
       "   'natural gas venting from petroleum/natural gas production' (cubic meter, GLO, None)),\n",
       "  (0.2084599202195685,\n",
       "   0.14977632183696352,\n",
       "   'ethylene production, average' (kilogram, RoW, None))],\n",
       " [(75.52874689673084,\n",
       "   1.2977039303281979,\n",
       "   'treatment of sulfidic tailings, from copper mine operation, tailings impoundment' (kilogram, CL, None)),\n",
       "  (54.55803843584517,\n",
       "   0.9338075113674322,\n",
       "   'treatment of sulfidic tailings, from copper mine operation, tailings impoundment' (kilogram, RoW, None)),\n",
       "  (54.21027990107865,\n",
       "   1.4489374231031575,\n",
       "   'treatment of sulfidic tailings, from gold mine operation, tailings impoundment' (kilogram, AU, None)),\n",
       "  (39.302223068418094,\n",
       "   1.042827549708775,\n",
       "   'treatment of sulfidic tailings, from gold mine operation, tailings impoundment' (kilogram, US, None)),\n",
       "  (35.057323366131016,\n",
       "   0.9311218834804023,\n",
       "   'treatment of sulfidic tailings, from gold mine operation, tailings impoundment' (kilogram, RoW, None))],\n",
       " [(0.010157808934012707,\n",
       "   6.577633367213403,\n",
       "   'treatment of spoil from hard coal mining, in surface landfill' (kilogram, GLO, None)),\n",
       "  (0.009102764506749818,\n",
       "   5.894508067517496,\n",
       "   'treatment of spoil from lignite mining, in surface landfill' (kilogram, GLO, None)),\n",
       "  (0.0020470510281760793,\n",
       "   1.4489374231031575,\n",
       "   'treatment of sulfidic tailings, from gold mine operation, tailings impoundment' (kilogram, AU, None)),\n",
       "  (0.0020168267275000027,\n",
       "   1.2977039303281979,\n",
       "   'treatment of sulfidic tailings, from copper mine operation, tailings impoundment' (kilogram, CL, None)),\n",
       "  (0.0018110868070941913,\n",
       "   0.02065377805566612,\n",
       "   'lithium carbonate production, from spodumene' (kilogram, CN, None))],\n",
       " [(5.063163318205042e-08,\n",
       "   0.000755696008009982,\n",
       "   'dichloromethane production' (kilogram, RoW, None)),\n",
       "  (3.960773809510167e-08,\n",
       "   0.05452483025776932,\n",
       "   'chlor-alkali electrolysis, membrane cell' (kilogram, RoW, None)),\n",
       "  (1.858634334406203e-08,\n",
       "   1.0762213893838217e-05,\n",
       "   'wafer production, fabricated, for integrated circuit' (square meter, GLO, None)),\n",
       "  (1.2438269067449073e-08,\n",
       "   1.7038723495445427e-05,\n",
       "   'trichloromethane production' (kilogram, RoW, None)),\n",
       "  (1.2052290766302615e-08,\n",
       "   0.022474918190051745,\n",
       "   'chlor-alkali electrolysis, membrane cell' (kilogram, RoW, None))]]"
      ]
     },
     "execution_count": 101,
     "metadata": {},
     "output_type": "execute_result"
    }
   ],
   "source": [
    "#show the contribution analysis results\n",
    "lca_contribution_results"
   ]
  },
  {
   "cell_type": "code",
   "execution_count": 102,
   "id": "d63d2e7f",
   "metadata": {},
   "outputs": [
    {
     "name": "stdout",
     "output_type": "stream",
     "text": [
      "['acidification potential (AP)', 'global warming potential (GWP100)', 'ecotoxicity: freshwater', 'eutrophication potential', 'ozone depletion potential (ODP)']\n"
     ]
    }
   ],
   "source": [
    "#filter the LCIA method again (only keep lvl2 part shown in the contribution analysis table) \n",
    "\n",
    "list_methods = []\n",
    "\n",
    "for method in filtered_key:\n",
    "    list_methods.append(method[2])   \n",
    "\n",
    "print(list_methods)"
   ]
  },
  {
   "cell_type": "code",
   "execution_count": 103,
   "id": "d64599fb",
   "metadata": {},
   "outputs": [
    {
     "name": "stdout",
     "output_type": "stream",
     "text": [
      "['kg SO2-Eq', 'kg CO2-Eq', 'CTUe', 'kg N-Eq', 'kg CFC-11-Eq']\n"
     ]
    }
   ],
   "source": [
    "#list all units of the LCIA method (shown in the contribution analysis table)\n",
    "\n",
    "list_units = []\n",
    "\n",
    "for method in filtered_key:\n",
    "    key = tuple(method)   # Update key for each iteration\n",
    "    unit = bw.methods.get(key, {'unit': 'unknown unit'}).get('unit')\n",
    "    list_units.append(unit)\n",
    "\n",
    "print(list_units)"
   ]
  },
  {
   "cell_type": "code",
   "execution_count": 104,
   "id": "4d164cae",
   "metadata": {
    "scrolled": true
   },
   "outputs": [
    {
     "data": {
      "text/html": [
       "<div>\n",
       "<style scoped>\n",
       "    .dataframe tbody tr th:only-of-type {\n",
       "        vertical-align: middle;\n",
       "    }\n",
       "\n",
       "    .dataframe tbody tr th {\n",
       "        vertical-align: top;\n",
       "    }\n",
       "\n",
       "    .dataframe thead th {\n",
       "        text-align: right;\n",
       "    }\n",
       "</style>\n",
       "<table border=\"1\" class=\"dataframe\">\n",
       "  <thead>\n",
       "    <tr style=\"text-align: right;\">\n",
       "      <th></th>\n",
       "      <th>Contribution Score</th>\n",
       "      <th>Normalized Contribution</th>\n",
       "      <th>Process</th>\n",
       "      <th>LCIA methods</th>\n",
       "      <th>units</th>\n",
       "    </tr>\n",
       "  </thead>\n",
       "  <tbody>\n",
       "    <tr>\n",
       "      <th>0</th>\n",
       "      <td>2.013516e-02</td>\n",
       "      <td>0.286377</td>\n",
       "      <td>[comment, classifications, activity type, acti...</td>\n",
       "      <td>acidification potential (AP)</td>\n",
       "      <td>kg SO2-Eq</td>\n",
       "    </tr>\n",
       "    <tr>\n",
       "      <th>1</th>\n",
       "      <td>2.818746e-03</td>\n",
       "      <td>0.005610</td>\n",
       "      <td>[comment, classifications, activity type, acti...</td>\n",
       "      <td>acidification potential (AP)</td>\n",
       "      <td>kg SO2-Eq</td>\n",
       "    </tr>\n",
       "    <tr>\n",
       "      <th>2</th>\n",
       "      <td>2.521855e-03</td>\n",
       "      <td>0.005500</td>\n",
       "      <td>[comment, classifications, activity type, acti...</td>\n",
       "      <td>acidification potential (AP)</td>\n",
       "      <td>kg SO2-Eq</td>\n",
       "    </tr>\n",
       "    <tr>\n",
       "      <th>3</th>\n",
       "      <td>2.207050e-03</td>\n",
       "      <td>2.605511</td>\n",
       "      <td>[comment, classifications, activity type, acti...</td>\n",
       "      <td>acidification potential (AP)</td>\n",
       "      <td>kg SO2-Eq</td>\n",
       "    </tr>\n",
       "    <tr>\n",
       "      <th>4</th>\n",
       "      <td>1.558553e-03</td>\n",
       "      <td>0.004549</td>\n",
       "      <td>[comment, classifications, activity type, acti...</td>\n",
       "      <td>acidification potential (AP)</td>\n",
       "      <td>kg SO2-Eq</td>\n",
       "    </tr>\n",
       "    <tr>\n",
       "      <th>5</th>\n",
       "      <td>3.981773e-01</td>\n",
       "      <td>1.165215</td>\n",
       "      <td>[comment, classifications, activity type, acti...</td>\n",
       "      <td>global warming potential (GWP100)</td>\n",
       "      <td>kg CO2-Eq</td>\n",
       "    </tr>\n",
       "    <tr>\n",
       "      <th>6</th>\n",
       "      <td>2.997901e-01</td>\n",
       "      <td>2.605511</td>\n",
       "      <td>[comment, classifications, activity type, acti...</td>\n",
       "      <td>global warming potential (GWP100)</td>\n",
       "      <td>kg CO2-Eq</td>\n",
       "    </tr>\n",
       "    <tr>\n",
       "      <th>7</th>\n",
       "      <td>2.502559e-01</td>\n",
       "      <td>0.185044</td>\n",
       "      <td>[comment, classifications, activity type, acti...</td>\n",
       "      <td>global warming potential (GWP100)</td>\n",
       "      <td>kg CO2-Eq</td>\n",
       "    </tr>\n",
       "    <tr>\n",
       "      <th>8</th>\n",
       "      <td>2.115533e-01</td>\n",
       "      <td>0.014451</td>\n",
       "      <td>[comment, classifications, activity type, acti...</td>\n",
       "      <td>global warming potential (GWP100)</td>\n",
       "      <td>kg CO2-Eq</td>\n",
       "    </tr>\n",
       "    <tr>\n",
       "      <th>9</th>\n",
       "      <td>2.084599e-01</td>\n",
       "      <td>0.149776</td>\n",
       "      <td>[comment, classifications, activity type, acti...</td>\n",
       "      <td>global warming potential (GWP100)</td>\n",
       "      <td>kg CO2-Eq</td>\n",
       "    </tr>\n",
       "    <tr>\n",
       "      <th>10</th>\n",
       "      <td>7.552875e+01</td>\n",
       "      <td>1.297704</td>\n",
       "      <td>[comment, classifications, activity type, acti...</td>\n",
       "      <td>ecotoxicity: freshwater</td>\n",
       "      <td>CTUe</td>\n",
       "    </tr>\n",
       "    <tr>\n",
       "      <th>11</th>\n",
       "      <td>5.455804e+01</td>\n",
       "      <td>0.933808</td>\n",
       "      <td>[comment, classifications, activity type, acti...</td>\n",
       "      <td>ecotoxicity: freshwater</td>\n",
       "      <td>CTUe</td>\n",
       "    </tr>\n",
       "    <tr>\n",
       "      <th>12</th>\n",
       "      <td>5.421028e+01</td>\n",
       "      <td>1.448937</td>\n",
       "      <td>[comment, classifications, activity type, acti...</td>\n",
       "      <td>ecotoxicity: freshwater</td>\n",
       "      <td>CTUe</td>\n",
       "    </tr>\n",
       "    <tr>\n",
       "      <th>13</th>\n",
       "      <td>3.930222e+01</td>\n",
       "      <td>1.042828</td>\n",
       "      <td>[comment, classifications, activity type, acti...</td>\n",
       "      <td>ecotoxicity: freshwater</td>\n",
       "      <td>CTUe</td>\n",
       "    </tr>\n",
       "    <tr>\n",
       "      <th>14</th>\n",
       "      <td>3.505732e+01</td>\n",
       "      <td>0.931122</td>\n",
       "      <td>[comment, classifications, activity type, acti...</td>\n",
       "      <td>ecotoxicity: freshwater</td>\n",
       "      <td>CTUe</td>\n",
       "    </tr>\n",
       "    <tr>\n",
       "      <th>15</th>\n",
       "      <td>1.015781e-02</td>\n",
       "      <td>6.577633</td>\n",
       "      <td>[comment, classifications, activity type, acti...</td>\n",
       "      <td>eutrophication potential</td>\n",
       "      <td>kg N-Eq</td>\n",
       "    </tr>\n",
       "    <tr>\n",
       "      <th>16</th>\n",
       "      <td>9.102765e-03</td>\n",
       "      <td>5.894508</td>\n",
       "      <td>[comment, classifications, activity type, acti...</td>\n",
       "      <td>eutrophication potential</td>\n",
       "      <td>kg N-Eq</td>\n",
       "    </tr>\n",
       "    <tr>\n",
       "      <th>17</th>\n",
       "      <td>2.047051e-03</td>\n",
       "      <td>1.448937</td>\n",
       "      <td>[comment, classifications, activity type, acti...</td>\n",
       "      <td>eutrophication potential</td>\n",
       "      <td>kg N-Eq</td>\n",
       "    </tr>\n",
       "    <tr>\n",
       "      <th>18</th>\n",
       "      <td>2.016827e-03</td>\n",
       "      <td>1.297704</td>\n",
       "      <td>[comment, classifications, activity type, acti...</td>\n",
       "      <td>eutrophication potential</td>\n",
       "      <td>kg N-Eq</td>\n",
       "    </tr>\n",
       "    <tr>\n",
       "      <th>19</th>\n",
       "      <td>1.811087e-03</td>\n",
       "      <td>0.020654</td>\n",
       "      <td>[comment, classifications, activity type, acti...</td>\n",
       "      <td>eutrophication potential</td>\n",
       "      <td>kg N-Eq</td>\n",
       "    </tr>\n",
       "    <tr>\n",
       "      <th>20</th>\n",
       "      <td>5.063163e-08</td>\n",
       "      <td>0.000756</td>\n",
       "      <td>[comment, classifications, activity type, acti...</td>\n",
       "      <td>ozone depletion potential (ODP)</td>\n",
       "      <td>kg CFC-11-Eq</td>\n",
       "    </tr>\n",
       "    <tr>\n",
       "      <th>21</th>\n",
       "      <td>3.960774e-08</td>\n",
       "      <td>0.054525</td>\n",
       "      <td>[comment, classifications, activity type, acti...</td>\n",
       "      <td>ozone depletion potential (ODP)</td>\n",
       "      <td>kg CFC-11-Eq</td>\n",
       "    </tr>\n",
       "    <tr>\n",
       "      <th>22</th>\n",
       "      <td>1.858634e-08</td>\n",
       "      <td>0.000011</td>\n",
       "      <td>[comment, classifications, activity type, acti...</td>\n",
       "      <td>ozone depletion potential (ODP)</td>\n",
       "      <td>kg CFC-11-Eq</td>\n",
       "    </tr>\n",
       "    <tr>\n",
       "      <th>23</th>\n",
       "      <td>1.243827e-08</td>\n",
       "      <td>0.000017</td>\n",
       "      <td>[comment, classifications, activity type, acti...</td>\n",
       "      <td>ozone depletion potential (ODP)</td>\n",
       "      <td>kg CFC-11-Eq</td>\n",
       "    </tr>\n",
       "    <tr>\n",
       "      <th>24</th>\n",
       "      <td>1.205229e-08</td>\n",
       "      <td>0.022475</td>\n",
       "      <td>[comment, classifications, activity type, acti...</td>\n",
       "      <td>ozone depletion potential (ODP)</td>\n",
       "      <td>kg CFC-11-Eq</td>\n",
       "    </tr>\n",
       "  </tbody>\n",
       "</table>\n",
       "</div>"
      ],
      "text/plain": [
       "    Contribution Score  Normalized Contribution  \\\n",
       "0         2.013516e-02                 0.286377   \n",
       "1         2.818746e-03                 0.005610   \n",
       "2         2.521855e-03                 0.005500   \n",
       "3         2.207050e-03                 2.605511   \n",
       "4         1.558553e-03                 0.004549   \n",
       "5         3.981773e-01                 1.165215   \n",
       "6         2.997901e-01                 2.605511   \n",
       "7         2.502559e-01                 0.185044   \n",
       "8         2.115533e-01                 0.014451   \n",
       "9         2.084599e-01                 0.149776   \n",
       "10        7.552875e+01                 1.297704   \n",
       "11        5.455804e+01                 0.933808   \n",
       "12        5.421028e+01                 1.448937   \n",
       "13        3.930222e+01                 1.042828   \n",
       "14        3.505732e+01                 0.931122   \n",
       "15        1.015781e-02                 6.577633   \n",
       "16        9.102765e-03                 5.894508   \n",
       "17        2.047051e-03                 1.448937   \n",
       "18        2.016827e-03                 1.297704   \n",
       "19        1.811087e-03                 0.020654   \n",
       "20        5.063163e-08                 0.000756   \n",
       "21        3.960774e-08                 0.054525   \n",
       "22        1.858634e-08                 0.000011   \n",
       "23        1.243827e-08                 0.000017   \n",
       "24        1.205229e-08                 0.022475   \n",
       "\n",
       "                                              Process  \\\n",
       "0   [comment, classifications, activity type, acti...   \n",
       "1   [comment, classifications, activity type, acti...   \n",
       "2   [comment, classifications, activity type, acti...   \n",
       "3   [comment, classifications, activity type, acti...   \n",
       "4   [comment, classifications, activity type, acti...   \n",
       "5   [comment, classifications, activity type, acti...   \n",
       "6   [comment, classifications, activity type, acti...   \n",
       "7   [comment, classifications, activity type, acti...   \n",
       "8   [comment, classifications, activity type, acti...   \n",
       "9   [comment, classifications, activity type, acti...   \n",
       "10  [comment, classifications, activity type, acti...   \n",
       "11  [comment, classifications, activity type, acti...   \n",
       "12  [comment, classifications, activity type, acti...   \n",
       "13  [comment, classifications, activity type, acti...   \n",
       "14  [comment, classifications, activity type, acti...   \n",
       "15  [comment, classifications, activity type, acti...   \n",
       "16  [comment, classifications, activity type, acti...   \n",
       "17  [comment, classifications, activity type, acti...   \n",
       "18  [comment, classifications, activity type, acti...   \n",
       "19  [comment, classifications, activity type, acti...   \n",
       "20  [comment, classifications, activity type, acti...   \n",
       "21  [comment, classifications, activity type, acti...   \n",
       "22  [comment, classifications, activity type, acti...   \n",
       "23  [comment, classifications, activity type, acti...   \n",
       "24  [comment, classifications, activity type, acti...   \n",
       "\n",
       "                         LCIA methods         units  \n",
       "0        acidification potential (AP)     kg SO2-Eq  \n",
       "1        acidification potential (AP)     kg SO2-Eq  \n",
       "2        acidification potential (AP)     kg SO2-Eq  \n",
       "3        acidification potential (AP)     kg SO2-Eq  \n",
       "4        acidification potential (AP)     kg SO2-Eq  \n",
       "5   global warming potential (GWP100)     kg CO2-Eq  \n",
       "6   global warming potential (GWP100)     kg CO2-Eq  \n",
       "7   global warming potential (GWP100)     kg CO2-Eq  \n",
       "8   global warming potential (GWP100)     kg CO2-Eq  \n",
       "9   global warming potential (GWP100)     kg CO2-Eq  \n",
       "10            ecotoxicity: freshwater          CTUe  \n",
       "11            ecotoxicity: freshwater          CTUe  \n",
       "12            ecotoxicity: freshwater          CTUe  \n",
       "13            ecotoxicity: freshwater          CTUe  \n",
       "14            ecotoxicity: freshwater          CTUe  \n",
       "15           eutrophication potential       kg N-Eq  \n",
       "16           eutrophication potential       kg N-Eq  \n",
       "17           eutrophication potential       kg N-Eq  \n",
       "18           eutrophication potential       kg N-Eq  \n",
       "19           eutrophication potential       kg N-Eq  \n",
       "20    ozone depletion potential (ODP)  kg CFC-11-Eq  \n",
       "21    ozone depletion potential (ODP)  kg CFC-11-Eq  \n",
       "22    ozone depletion potential (ODP)  kg CFC-11-Eq  \n",
       "23    ozone depletion potential (ODP)  kg CFC-11-Eq  \n",
       "24    ozone depletion potential (ODP)  kg CFC-11-Eq  "
      ]
     },
     "execution_count": 104,
     "metadata": {},
     "output_type": "execute_result"
    }
   ],
   "source": [
    "#organize the results of contribution analysis as pd.Dataframe\n",
    "\n",
    "flat_data = [(score, norm_score, process) for sublist in lca_contribution_results for score, norm_score, process in sublist]\n",
    "ca_result1 = pd.DataFrame(flat_data, columns=['Contribution Score', 'Normalized Contribution', 'Process'])\n",
    "\n",
    "lcia_methods_column = [method for method in list_methods for _ in range(i)]\n",
    "ca_result1['LCIA methods'] = lcia_methods_column\n",
    "\n",
    "lcia_units_column = [method for method in list_units for _ in range(i)]\n",
    "ca_result1['units'] = lcia_units_column\n",
    "\n",
    "ca_result1"
   ]
  },
  {
   "cell_type": "code",
   "execution_count": 105,
   "id": "74897383",
   "metadata": {},
   "outputs": [],
   "source": [
    "#export LCA and contribution analysis results to an excel file\n",
    "\n",
    "excel_file_path = 'C:/Users/89751/OneDrive/桌面/Book1.xlsx'   #create a new Excel file and load the address here\n",
    "\n",
    "with pd.ExcelWriter(excel_file_path, engine='xlsxwriter') as writer:\n",
    "\n",
    "    # Write the first dataFrame to a sheet named 'overall_lca_result'\n",
    "    Overall_LCA_result.to_excel(writer, sheet_name='overall_lca_result', index=False)\n",
    "    \n",
    "    # Write the second DataFrame to a sheet named 'lca_result_activity1'\n",
    "    LCA_result1.to_excel(writer, sheet_name='lca_result_activity1', index=False)   #update sheet name here\n",
    "\n",
    "    # Write the third DataFrame (df2) to a sheet named 'contribution_analysis_activity1'\n",
    "    ca_result1.to_excel(writer, sheet_name='contribution_analysis_activity1', index=False)   #update sheet name here"
   ]
  },
  {
   "cell_type": "code",
   "execution_count": null,
   "id": "86b45939",
   "metadata": {},
   "outputs": [],
   "source": []
  }
 ],
 "metadata": {
  "kernelspec": {
   "display_name": "Python 3 (ipykernel)",
   "language": "python",
   "name": "python3"
  },
  "language_info": {
   "codemirror_mode": {
    "name": "ipython",
    "version": 3
   },
   "file_extension": ".py",
   "mimetype": "text/x-python",
   "name": "python",
   "nbconvert_exporter": "python",
   "pygments_lexer": "ipython3",
   "version": "3.9.13"
  }
 },
 "nbformat": 4,
 "nbformat_minor": 5
}
